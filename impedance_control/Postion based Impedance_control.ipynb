{
 "cells": [
  {
   "cell_type": "markdown",
   "metadata": {},
   "source": [
    "# Position based Impedance Control"
   ]
  },
  {
   "cell_type": "code",
   "execution_count": 239,
   "metadata": {},
   "outputs": [
    {
     "data": {
      "image/png": "[encoded data removed]",
      "text/plain": [
       "<IPython.core.display.Image object>"
      ]
     },
     "execution_count": 239,
     "metadata": {},
     "output_type": "execute_result"
    }
   ],
   "source": [
    "from IPython.display import Image\n",
    "Image('img/2_link_tutorial_1.png')"
   ]
  },
  {
   "cell_type": "code",
   "execution_count": 245,
   "metadata": {},
   "outputs": [],
   "source": [
    "import sympy as sp\n",
    "import numpy as np\n",
    "from lib import symbolic_modern_robotics as smr\n",
    "\n",
    "\n",
    "def get_Screw_axis(s,q,h=0):\n",
    "    w = q.cross(s) + h*s\n",
    "    w=w.tolist()\n",
    "    s=s.tolist()\n",
    "    \n",
    "    return sum(s+w,[])"
   ]
  },
  {
   "cell_type": "markdown",
   "metadata": {},
   "source": [
    "### 1. Find Foward Kinematics"
   ]
  },
  {
   "cell_type": "code",
   "execution_count": 292,
   "metadata": {},
   "outputs": [
    {
     "data": {
      "text/latex": [
       "$\\displaystyle \\left[\\begin{matrix}0 & 0 & 0 & 0\\\\0 & 0 & 0 & 0\\\\0 & 0 & 0 & 0\\\\0 & 0 & 0 & 0\\end{matrix}\\right]$"
      ],
      "text/plain": [
       "Matrix([\n",
       "[0, 0, 0, 0],\n",
       "[0, 0, 0, 0],\n",
       "[0, 0, 0, 0],\n",
       "[0, 0, 0, 0]])"
      ]
     },
     "execution_count": 292,
     "metadata": {},
     "output_type": "execute_result"
    }
   ],
   "source": [
    "import sympy as sp\n",
    "import numpy as np\n",
    "from lib import symbolic_modern_robotics as smr\n",
    "\n",
    "l1,l2,g = sp.symbols('l1,l2,g')\n",
    "m1,m2 = sp.symbols('m1,m2')\n",
    "theta_1,theta_2 = sp.symbols('theta_1,theta_2', positive=True)\n",
    "dtheta_1,dtheta_2 = sp.symbols('thetadot_1,thetadot_2', positive=True)\n",
    "ddtheta_1,ddtheta_2 = sp.symbols('thetaddot_1,thetaddot_2', positive=True)\n",
    "\n",
    "thetalist = sp.Matrix([theta_1,theta_2])\n",
    "dthetalist = sp.Matrix([dtheta_1,dtheta_2])\n",
    "ddthetalist = sp.Matrix([ddtheta_1,ddtheta_2])\n",
    "\n",
    "\n",
    "\n",
    "s1 = sp.Matrix([[0,0,1]])    # v = q X s   (Cross Product)\n",
    "q1 = sp.Matrix([[0,0,0]])    # slist form = [ w , v ]\n",
    "\n",
    "s2 = sp.Matrix([[0,0,1]])\n",
    "q2 = sp.Matrix([[l1,0,0]])\n",
    "\n",
    "\n",
    "Slist = sp.Matrix([get_Screw_axis(s1,q1),\n",
    "                   get_Screw_axis(s2,q2)]).T\n",
    "\n",
    "thetalist = sp.Matrix([theta_1,theta_2])\n",
    "\n",
    "M01 = sp.Matrix([[1,0,0,l1],\n",
    "                 [0,1,0,0],\n",
    "                 [0,0,1,0],\n",
    "                 [0,0,0,1]])\n",
    "\n",
    "M12 = sp.Matrix([[1,0,0,l2],\n",
    "                 [0,1,0,0],\n",
    "                 [0,0,1,0],\n",
    "                 [0,0,0,1]])\n",
    "\n",
    "M = M01@M12\n",
    "\n",
    "Mlist=[M01,M12]\n",
    "\n",
    "Blist = sp.Matrix([[0, 0, 1, 0, l1+l2, 0],\n",
    "                  [0, 0, 1, 0, l2, 0]]).T\n",
    "\n",
    "\n",
    "# Check Forward Kinematics\n",
    "T01 = smr.MatrixExp6(smr.VecTose3(Slist[:, 0]*thetalist[0]))\n",
    "T12 = smr.MatrixExp6(smr.VecTose3(Slist[:, 1]*thetalist[1]))\n",
    "ForKinSpace = T01@T12@M\n",
    "T01 = smr.MatrixExp6(smr.VecTose3(Blist[:, 0]*thetalist[0]))\n",
    "T12 = smr.MatrixExp6(smr.VecTose3(Blist[:, 1]*thetalist[1]))\n",
    "ForKinBody = M@T01@T12\n",
    "\n",
    "sp.simplify(ForKinSpace-ForKinBody)\n",
    "\n"
   ]
  },
  {
   "cell_type": "markdown",
   "metadata": {},
   "source": [
    "### 2. Find Jacobian Matrix"
   ]
  },
  {
   "cell_type": "code",
   "execution_count": 328,
   "metadata": {},
   "outputs": [
    {
     "data": {
      "text/latex": [
       "$\\displaystyle \\left[\\begin{matrix}- l_{1} \\sin{\\left(\\theta_{1} \\right)} - l_{2} \\sin{\\left(\\theta_{1} + \\theta_{2} \\right)} & - l_{2} \\sin{\\left(\\theta_{1} + \\theta_{2} \\right)}\\\\l_{1} \\cos{\\left(\\theta_{1} \\right)} + l_{2} \\cos{\\left(\\theta_{1} + \\theta_{2} \\right)} & l_{2} \\cos{\\left(\\theta_{1} + \\theta_{2} \\right)}\\end{matrix}\\right]$"
      ],
      "text/plain": [
       "Matrix([\n",
       "[-l1*sin(theta_1) - l2*sin(theta_1 + theta_2), -l2*sin(theta_1 + theta_2)],\n",
       "[ l1*cos(theta_1) + l2*cos(theta_1 + theta_2),  l2*cos(theta_1 + theta_2)]])"
      ]
     },
     "execution_count": 328,
     "metadata": {},
     "output_type": "execute_result"
    }
   ],
   "source": [
    "fkin_result_b = smr.FKinBody(M, Blist, thetalist)\n",
    "Jb = smr.JacobianBody(Blist, thetalist)\n",
    "R_0_3 = fkin_result_b[0:3,0:3]\n",
    "J1=R_0_3@Jb[3:,0]\n",
    "J1.row_del(-1)\n",
    "\n",
    "J2=R_0_3@Jb[3:,1]\n",
    "J2.row_del(-1)\n",
    "\n",
    "J=J1.row_join(J2)\n",
    "\n",
    "sp.simplify(J)\n"
   ]
  },
  {
   "cell_type": "markdown",
   "metadata": {},
   "source": [
    "### 2. Inverse Dynamics : Find Mass Matrix , Coriolis force , Gravity Vector"
   ]
  },
  {
   "cell_type": "code",
   "execution_count": 276,
   "metadata": {},
   "outputs": [],
   "source": [
    "g_vec = sp.Matrix([0, -g, 0])\n",
    "Ftip = sp.Matrix([0,0,0,0,0,0])\n",
    "G01 = sp.diag(0,0,0, m1, m1, m1)\n",
    "G12 = sp.diag(0,0,0, m2, m2, m2)\n",
    "Glist = [G01, G12]"
   ]
  },
  {
   "cell_type": "code",
   "execution_count": 277,
   "metadata": {},
   "outputs": [],
   "source": [
    "tau, V, Vd = smr.InverseDynamics(thetalist, dthetalist, ddthetalist, g_vec, Ftip, Mlist, Glist, Slist)\n"
   ]
  },
  {
   "cell_type": "code",
   "execution_count": 278,
   "metadata": {},
   "outputs": [],
   "source": [
    "Mass,C,G=smr.get_EoM_from_T(tau, ddthetalist, g)"
   ]
  },
  {
   "cell_type": "code",
   "execution_count": 279,
   "metadata": {},
   "outputs": [
    {
     "data": {
      "text/latex": [
       "$\\displaystyle \\left[\\begin{matrix}l_{1}^{2} m_{1} + l_{1}^{2} m_{2} + 2 l_{1} l_{2} m_{2} \\cos{\\left(\\theta_{2} \\right)} + l_{2}^{2} m_{2} & l_{2} m_{2} \\left(l_{1} \\cos{\\left(\\theta_{2} \\right)} + l_{2}\\right)\\\\l_{2} m_{2} \\left(l_{1} \\cos{\\left(\\theta_{2} \\right)} + l_{2}\\right) & l_{2}^{2} m_{2}\\end{matrix}\\right]$"
      ],
      "text/plain": [
       "Matrix([\n",
       "[l1**2*m1 + l1**2*m2 + 2*l1*l2*m2*cos(theta_2) + l2**2*m2, l2*m2*(l1*cos(theta_2) + l2)],\n",
       "[                            l2*m2*(l1*cos(theta_2) + l2),                     l2**2*m2]])"
      ]
     },
     "execution_count": 279,
     "metadata": {},
     "output_type": "execute_result"
    }
   ],
   "source": [
    "Mass"
   ]
  },
  {
   "cell_type": "code",
   "execution_count": 280,
   "metadata": {},
   "outputs": [
    {
     "data": {
      "text/latex": [
       "$\\displaystyle \\left[\\begin{matrix}- l_{1} l_{2} m_{2} \\dot{\\theta}_{2} \\cdot \\left(2 \\dot{\\theta}_{1} + \\dot{\\theta}_{2}\\right) \\sin{\\left(\\theta_{2} \\right)}\\\\l_{1} l_{2} m_{2} \\dot{\\theta}_{1}^{2} \\sin{\\left(\\theta_{2} \\right)}\\end{matrix}\\right]$"
      ],
      "text/plain": [
       "Matrix([\n",
       "[-l1*l2*m2*thetadot_2*(2*thetadot_1 + thetadot_2)*sin(theta_2)],\n",
       "[                          l1*l2*m2*thetadot_1**2*sin(theta_2)]])"
      ]
     },
     "execution_count": 280,
     "metadata": {},
     "output_type": "execute_result"
    }
   ],
   "source": [
    "C"
   ]
  },
  {
   "cell_type": "code",
   "execution_count": 281,
   "metadata": {},
   "outputs": [
    {
     "data": {
      "text/latex": [
       "$\\displaystyle \\left[\\begin{matrix}g \\left(l_{1} m_{1} \\cos{\\left(\\theta_{1} \\right)} + l_{1} m_{2} \\cos{\\left(\\theta_{1} \\right)} + l_{2} m_{2} \\cos{\\left(\\theta_{1} + \\theta_{2} \\right)}\\right)\\\\g l_{2} m_{2} \\cos{\\left(\\theta_{1} + \\theta_{2} \\right)}\\end{matrix}\\right]$"
      ],
      "text/plain": [
       "Matrix([\n",
       "[g*(l1*m1*cos(theta_1) + l1*m2*cos(theta_1) + l2*m2*cos(theta_1 + theta_2))],\n",
       "[                                            g*l2*m2*cos(theta_1 + theta_2)]])"
      ]
     },
     "execution_count": 281,
     "metadata": {},
     "output_type": "execute_result"
    }
   ],
   "source": [
    "G"
   ]
  },
  {
   "cell_type": "markdown",
   "metadata": {},
   "source": [
    "### 3. Computed Torque Control"
   ]
  },
  {
   "cell_type": "code",
   "execution_count": 269,
   "metadata": {},
   "outputs": [
    {
     "data": {
      "text/latex": [
       "$\\displaystyle \\left[\\begin{matrix}l_{2} m_{2} \\theta_{2} \\left(l_{1} \\cos{\\left(\\theta_{2} \\right)} + l_{2}\\right) + \\theta_{1} \\left(l_{1}^{2} m_{1} + l_{1}^{2} m_{2} + 2 l_{1} l_{2} m_{2} \\cos{\\left(\\theta_{2} \\right)} + l_{2}^{2} m_{2}\\right)\\\\l_{2}^{2} m_{2} \\theta_{2} + l_{2} m_{2} \\theta_{1} \\left(l_{1} \\cos{\\left(\\theta_{2} \\right)} + l_{2}\\right)\\end{matrix}\\right]$"
      ],
      "text/plain": [
       "Matrix([\n",
       "[l2*m2*theta_2*(l1*cos(theta_2) + l2) + theta_1*(l1**2*m1 + l1**2*m2 + 2*l1*l2*m2*cos(theta_2) + l2**2*m2)],\n",
       "[                                                  l2**2*m2*theta_2 + l2*m2*theta_1*(l1*cos(theta_2) + l2)]])"
      ]
     },
     "execution_count": 269,
     "metadata": {},
     "output_type": "execute_result"
    }
   ],
   "source": [
    "u=M@"
   ]
  },
  {
   "cell_type": "code",
   "execution_count": null,
   "metadata": {},
   "outputs": [],
   "source": []
  },
  {
   "cell_type": "code",
   "execution_count": null,
   "metadata": {},
   "outputs": [],
   "source": []
  }
 ],
 "metadata": {
  "kernelspec": {
   "display_name": "Python 3.8.10 64-bit",
   "language": "python",
   "name": "python3"
  },
  "language_info": {
   "codemirror_mode": {
    "name": "ipython",
    "version": 3
   },
   "file_extension": ".py",
   "mimetype": "text/x-python",
   "name": "python",
   "nbconvert_exporter": "python",
   "pygments_lexer": "ipython3",
   "version": "3.8.10"
  },
  "orig_nbformat": 4,
  "vscode": {
   "interpreter": {
    "hash": "916dbcbb3f70747c44a77c7bcd40155683ae19c65e1c03b4aa3499c5328201f1"
   }
  }
 },
 "nbformat": 4,
 "nbformat_minor": 2
}
